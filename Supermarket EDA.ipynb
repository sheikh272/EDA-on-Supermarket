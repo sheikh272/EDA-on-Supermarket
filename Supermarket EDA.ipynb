{
 "cells": [
  {
   "cell_type": "markdown",
   "id": "3783975b",
   "metadata": {},
   "source": [
    "### Exploratory Data Anaysis"
   ]
  },
  {
   "cell_type": "code",
   "execution_count": 55,
   "id": "f93cefdb",
   "metadata": {},
   "outputs": [],
   "source": [
    "import pandas as pd\n",
    "import numpy as np\n",
    "import matplotlib.pyplot as plt\n",
    "import seaborn as sns\n",
    "import warnings\n",
    "%matplotlib inline"
   ]
  },
  {
   "cell_type": "code",
   "execution_count": 56,
   "id": "a370bfc6",
   "metadata": {},
   "outputs": [],
   "source": [
    "df=pd.read_csv(\"C:/Users/HP/Desktop/data sets/supermarket_sales_1.csv\")"
   ]
  },
  {
   "cell_type": "code",
   "execution_count": 57,
   "id": "d8156437",
   "metadata": {},
   "outputs": [
    {
     "data": {
      "text/html": [
       "<div>\n",
       "<style scoped>\n",
       "    .dataframe tbody tr th:only-of-type {\n",
       "        vertical-align: middle;\n",
       "    }\n",
       "\n",
       "    .dataframe tbody tr th {\n",
       "        vertical-align: top;\n",
       "    }\n",
       "\n",
       "    .dataframe thead th {\n",
       "        text-align: right;\n",
       "    }\n",
       "</style>\n",
       "<table border=\"1\" class=\"dataframe\">\n",
       "  <thead>\n",
       "    <tr style=\"text-align: right;\">\n",
       "      <th></th>\n",
       "      <th>Invoice ID</th>\n",
       "      <th>Branch</th>\n",
       "      <th>city code</th>\n",
       "      <th>Customer type</th>\n",
       "      <th>Gender</th>\n",
       "      <th>Product code</th>\n",
       "      <th>Unit price</th>\n",
       "      <th>Quantity</th>\n",
       "      <th>Tax 5%</th>\n",
       "      <th>Total</th>\n",
       "      <th>Date</th>\n",
       "      <th>Time</th>\n",
       "      <th>Payment</th>\n",
       "      <th>cogs</th>\n",
       "      <th>gross margin percentage</th>\n",
       "      <th>gross income</th>\n",
       "      <th>Rating</th>\n",
       "    </tr>\n",
       "  </thead>\n",
       "  <tbody>\n",
       "    <tr>\n",
       "      <th>0</th>\n",
       "      <td>750-67-8428</td>\n",
       "      <td>A</td>\n",
       "      <td>CT1</td>\n",
       "      <td>Member</td>\n",
       "      <td>Female</td>\n",
       "      <td>PD1</td>\n",
       "      <td>74.69</td>\n",
       "      <td>7</td>\n",
       "      <td>26.1415</td>\n",
       "      <td>548.9715</td>\n",
       "      <td>05-01-2019</td>\n",
       "      <td>13:08</td>\n",
       "      <td>Ewallet</td>\n",
       "      <td>522.83</td>\n",
       "      <td>4.761905</td>\n",
       "      <td>26.1415</td>\n",
       "      <td>9.1</td>\n",
       "    </tr>\n",
       "    <tr>\n",
       "      <th>1</th>\n",
       "      <td>226-31-3081</td>\n",
       "      <td>C</td>\n",
       "      <td>CT3</td>\n",
       "      <td>Normal</td>\n",
       "      <td>Female</td>\n",
       "      <td>PD2</td>\n",
       "      <td>15.28</td>\n",
       "      <td>5</td>\n",
       "      <td>3.8200</td>\n",
       "      <td>80.2200</td>\n",
       "      <td>08-03-2019</td>\n",
       "      <td>10:29</td>\n",
       "      <td>Cash</td>\n",
       "      <td>76.40</td>\n",
       "      <td>4.761905</td>\n",
       "      <td>3.8200</td>\n",
       "      <td>9.6</td>\n",
       "    </tr>\n",
       "    <tr>\n",
       "      <th>2</th>\n",
       "      <td>631-41-3108</td>\n",
       "      <td>A</td>\n",
       "      <td>CT1</td>\n",
       "      <td>Normal</td>\n",
       "      <td>Male</td>\n",
       "      <td>PD3</td>\n",
       "      <td>46.33</td>\n",
       "      <td>7</td>\n",
       "      <td>16.2155</td>\n",
       "      <td>340.5255</td>\n",
       "      <td>03-03-2019</td>\n",
       "      <td>13:23</td>\n",
       "      <td>Credit card</td>\n",
       "      <td>324.31</td>\n",
       "      <td>4.761905</td>\n",
       "      <td>16.2155</td>\n",
       "      <td>7.4</td>\n",
       "    </tr>\n",
       "    <tr>\n",
       "      <th>3</th>\n",
       "      <td>123-19-1176</td>\n",
       "      <td>A</td>\n",
       "      <td>CT1</td>\n",
       "      <td>Member</td>\n",
       "      <td>Male</td>\n",
       "      <td>PD1</td>\n",
       "      <td>58.22</td>\n",
       "      <td>8</td>\n",
       "      <td>23.2880</td>\n",
       "      <td>489.0480</td>\n",
       "      <td>27-01-2019</td>\n",
       "      <td>20:33</td>\n",
       "      <td>Ewallet</td>\n",
       "      <td>465.76</td>\n",
       "      <td>4.761905</td>\n",
       "      <td>23.2880</td>\n",
       "      <td>8.4</td>\n",
       "    </tr>\n",
       "    <tr>\n",
       "      <th>4</th>\n",
       "      <td>373-73-7910</td>\n",
       "      <td>A</td>\n",
       "      <td>CT1</td>\n",
       "      <td>Normal</td>\n",
       "      <td>Male</td>\n",
       "      <td>PD4</td>\n",
       "      <td>86.31</td>\n",
       "      <td>7</td>\n",
       "      <td>30.2085</td>\n",
       "      <td>634.3785</td>\n",
       "      <td>08-02-2019</td>\n",
       "      <td>10:37</td>\n",
       "      <td>Ewallet</td>\n",
       "      <td>604.17</td>\n",
       "      <td>4.761905</td>\n",
       "      <td>30.2085</td>\n",
       "      <td>5.3</td>\n",
       "    </tr>\n",
       "  </tbody>\n",
       "</table>\n",
       "</div>"
      ],
      "text/plain": [
       "    Invoice ID Branch city code  Customer type  Gender Product code  \\\n",
       "0  750-67-8428      A        CT1        Member  Female          PD1   \n",
       "1  226-31-3081      C        CT3        Normal  Female          PD2   \n",
       "2  631-41-3108      A        CT1        Normal    Male          PD3   \n",
       "3  123-19-1176      A        CT1        Member    Male          PD1   \n",
       "4  373-73-7910      A        CT1        Normal    Male          PD4   \n",
       "\n",
       "  Unit price  Quantity   Tax 5%     Total        Date   Time      Payment  \\\n",
       "0      74.69         7  26.1415  548.9715  05-01-2019  13:08      Ewallet   \n",
       "1      15.28         5   3.8200   80.2200  08-03-2019  10:29         Cash   \n",
       "2      46.33         7  16.2155  340.5255  03-03-2019  13:23  Credit card   \n",
       "3      58.22         8  23.2880  489.0480  27-01-2019  20:33      Ewallet   \n",
       "4      86.31         7  30.2085  634.3785  08-02-2019  10:37      Ewallet   \n",
       "\n",
       "     cogs  gross margin percentage  gross income  Rating  \n",
       "0  522.83                 4.761905       26.1415     9.1  \n",
       "1   76.40                 4.761905        3.8200     9.6  \n",
       "2  324.31                 4.761905       16.2155     7.4  \n",
       "3  465.76                 4.761905       23.2880     8.4  \n",
       "4  604.17                 4.761905       30.2085     5.3  "
      ]
     },
     "execution_count": 57,
     "metadata": {},
     "output_type": "execute_result"
    }
   ],
   "source": [
    "df.head()"
   ]
  },
  {
   "cell_type": "code",
   "execution_count": 58,
   "id": "06d4577e",
   "metadata": {},
   "outputs": [
    {
     "data": {
      "text/plain": [
       "(1000, 17)"
      ]
     },
     "execution_count": 58,
     "metadata": {},
     "output_type": "execute_result"
    }
   ],
   "source": [
    "df.shape"
   ]
  },
  {
   "cell_type": "code",
   "execution_count": 59,
   "id": "a341609d",
   "metadata": {},
   "outputs": [
    {
     "data": {
      "text/html": [
       "<div>\n",
       "<style scoped>\n",
       "    .dataframe tbody tr th:only-of-type {\n",
       "        vertical-align: middle;\n",
       "    }\n",
       "\n",
       "    .dataframe tbody tr th {\n",
       "        vertical-align: top;\n",
       "    }\n",
       "\n",
       "    .dataframe thead th {\n",
       "        text-align: right;\n",
       "    }\n",
       "</style>\n",
       "<table border=\"1\" class=\"dataframe\">\n",
       "  <thead>\n",
       "    <tr style=\"text-align: right;\">\n",
       "      <th></th>\n",
       "      <th>Quantity</th>\n",
       "      <th>Tax 5%</th>\n",
       "      <th>Total</th>\n",
       "      <th>cogs</th>\n",
       "      <th>gross margin percentage</th>\n",
       "      <th>gross income</th>\n",
       "      <th>Rating</th>\n",
       "    </tr>\n",
       "  </thead>\n",
       "  <tbody>\n",
       "    <tr>\n",
       "      <th>count</th>\n",
       "      <td>1000.000000</td>\n",
       "      <td>1000.000000</td>\n",
       "      <td>1000.000000</td>\n",
       "      <td>1000.00000</td>\n",
       "      <td>1.000000e+03</td>\n",
       "      <td>1000.000000</td>\n",
       "      <td>993.000000</td>\n",
       "    </tr>\n",
       "    <tr>\n",
       "      <th>mean</th>\n",
       "      <td>5.510000</td>\n",
       "      <td>15.379369</td>\n",
       "      <td>322.966749</td>\n",
       "      <td>307.58738</td>\n",
       "      <td>4.761905e+00</td>\n",
       "      <td>15.379369</td>\n",
       "      <td>6.966163</td>\n",
       "    </tr>\n",
       "    <tr>\n",
       "      <th>std</th>\n",
       "      <td>2.923431</td>\n",
       "      <td>11.708825</td>\n",
       "      <td>245.885335</td>\n",
       "      <td>234.17651</td>\n",
       "      <td>6.131498e-14</td>\n",
       "      <td>11.708825</td>\n",
       "      <td>1.719300</td>\n",
       "    </tr>\n",
       "    <tr>\n",
       "      <th>min</th>\n",
       "      <td>1.000000</td>\n",
       "      <td>0.508500</td>\n",
       "      <td>10.678500</td>\n",
       "      <td>10.17000</td>\n",
       "      <td>4.761905e+00</td>\n",
       "      <td>0.508500</td>\n",
       "      <td>4.000000</td>\n",
       "    </tr>\n",
       "    <tr>\n",
       "      <th>25%</th>\n",
       "      <td>3.000000</td>\n",
       "      <td>5.924875</td>\n",
       "      <td>124.422375</td>\n",
       "      <td>118.49750</td>\n",
       "      <td>4.761905e+00</td>\n",
       "      <td>5.924875</td>\n",
       "      <td>5.500000</td>\n",
       "    </tr>\n",
       "    <tr>\n",
       "      <th>50%</th>\n",
       "      <td>5.000000</td>\n",
       "      <td>12.088000</td>\n",
       "      <td>253.848000</td>\n",
       "      <td>241.76000</td>\n",
       "      <td>4.761905e+00</td>\n",
       "      <td>12.088000</td>\n",
       "      <td>6.900000</td>\n",
       "    </tr>\n",
       "    <tr>\n",
       "      <th>75%</th>\n",
       "      <td>8.000000</td>\n",
       "      <td>22.445250</td>\n",
       "      <td>471.350250</td>\n",
       "      <td>448.90500</td>\n",
       "      <td>4.761905e+00</td>\n",
       "      <td>22.445250</td>\n",
       "      <td>8.500000</td>\n",
       "    </tr>\n",
       "    <tr>\n",
       "      <th>max</th>\n",
       "      <td>10.000000</td>\n",
       "      <td>49.650000</td>\n",
       "      <td>1042.650000</td>\n",
       "      <td>993.00000</td>\n",
       "      <td>4.761905e+00</td>\n",
       "      <td>49.650000</td>\n",
       "      <td>10.000000</td>\n",
       "    </tr>\n",
       "  </tbody>\n",
       "</table>\n",
       "</div>"
      ],
      "text/plain": [
       "          Quantity       Tax 5%        Total        cogs  \\\n",
       "count  1000.000000  1000.000000  1000.000000  1000.00000   \n",
       "mean      5.510000    15.379369   322.966749   307.58738   \n",
       "std       2.923431    11.708825   245.885335   234.17651   \n",
       "min       1.000000     0.508500    10.678500    10.17000   \n",
       "25%       3.000000     5.924875   124.422375   118.49750   \n",
       "50%       5.000000    12.088000   253.848000   241.76000   \n",
       "75%       8.000000    22.445250   471.350250   448.90500   \n",
       "max      10.000000    49.650000  1042.650000   993.00000   \n",
       "\n",
       "       gross margin percentage  gross income      Rating  \n",
       "count             1.000000e+03   1000.000000  993.000000  \n",
       "mean              4.761905e+00     15.379369    6.966163  \n",
       "std               6.131498e-14     11.708825    1.719300  \n",
       "min               4.761905e+00      0.508500    4.000000  \n",
       "25%               4.761905e+00      5.924875    5.500000  \n",
       "50%               4.761905e+00     12.088000    6.900000  \n",
       "75%               4.761905e+00     22.445250    8.500000  \n",
       "max               4.761905e+00     49.650000   10.000000  "
      ]
     },
     "execution_count": 59,
     "metadata": {},
     "output_type": "execute_result"
    }
   ],
   "source": [
    "df.describe()"
   ]
  },
  {
   "cell_type": "code",
   "execution_count": 60,
   "id": "b80de34b",
   "metadata": {},
   "outputs": [
    {
     "name": "stdout",
     "output_type": "stream",
     "text": [
      "<class 'pandas.core.frame.DataFrame'>\n",
      "RangeIndex: 1000 entries, 0 to 999\n",
      "Data columns (total 17 columns):\n",
      " #   Column                   Non-Null Count  Dtype  \n",
      "---  ------                   --------------  -----  \n",
      " 0   Invoice ID               1000 non-null   object \n",
      " 1   Branch                   1000 non-null   object \n",
      " 2   city code                1000 non-null   object \n",
      " 3   Customer type            1000 non-null   object \n",
      " 4   Gender                   1000 non-null   object \n",
      " 5   Product code             1000 non-null   object \n",
      " 6   Unit price               996 non-null    object \n",
      " 7   Quantity                 1000 non-null   int64  \n",
      " 8   Tax 5%                   1000 non-null   float64\n",
      " 9   Total                    1000 non-null   float64\n",
      " 10  Date                     1000 non-null   object \n",
      " 11  Time                     1000 non-null   object \n",
      " 12  Payment                  1000 non-null   object \n",
      " 13  cogs                     1000 non-null   float64\n",
      " 14  gross margin percentage  1000 non-null   float64\n",
      " 15  gross income             1000 non-null   float64\n",
      " 16  Rating                   993 non-null    float64\n",
      "dtypes: float64(6), int64(1), object(10)\n",
      "memory usage: 132.9+ KB\n"
     ]
    }
   ],
   "source": [
    "df.info()"
   ]
  },
  {
   "cell_type": "code",
   "execution_count": 61,
   "id": "fcbfca81",
   "metadata": {},
   "outputs": [
    {
     "data": {
      "text/plain": [
       "Invoice ID                 0\n",
       "Branch                     0\n",
       "city code                  0\n",
       "Customer type              0\n",
       "Gender                     0\n",
       "Product code               0\n",
       "Unit price                 4\n",
       "Quantity                   0\n",
       "Tax 5%                     0\n",
       "Total                      0\n",
       "Date                       0\n",
       "Time                       0\n",
       "Payment                    0\n",
       "cogs                       0\n",
       "gross margin percentage    0\n",
       "gross income               0\n",
       "Rating                     7\n",
       "dtype: int64"
      ]
     },
     "execution_count": 61,
     "metadata": {},
     "output_type": "execute_result"
    }
   ],
   "source": [
    "df.isnull().sum()"
   ]
  },
  {
   "cell_type": "code",
   "execution_count": 62,
   "id": "a6a2a225",
   "metadata": {},
   "outputs": [],
   "source": [
    "# filling null values with mean\n",
    "mean_Rating=df['Rating'].mean()\n",
    "mean_Rating\n",
    "df['Rating'].fillna(value=mean_Rating, inplace=True)"
   ]
  },
  {
   "cell_type": "code",
   "execution_count": 63,
   "id": "8ee66b58",
   "metadata": {},
   "outputs": [],
   "source": [
    "df['Unit price'] = df['Unit price'].replace(np.nan, 0)"
   ]
  },
  {
   "cell_type": "code",
   "execution_count": 64,
   "id": "33ffcd71",
   "metadata": {},
   "outputs": [
    {
     "data": {
      "text/plain": [
       "0"
      ]
     },
     "execution_count": 64,
     "metadata": {},
     "output_type": "execute_result"
    }
   ],
   "source": [
    "# sanity check\n",
    "df.isnull().sum().sum()"
   ]
  },
  {
   "cell_type": "code",
   "execution_count": 100,
   "id": "aaa142ec",
   "metadata": {},
   "outputs": [
    {
     "data": {
      "text/html": [
       "<div>\n",
       "<style scoped>\n",
       "    .dataframe tbody tr th:only-of-type {\n",
       "        vertical-align: middle;\n",
       "    }\n",
       "\n",
       "    .dataframe tbody tr th {\n",
       "        vertical-align: top;\n",
       "    }\n",
       "\n",
       "    .dataframe thead th {\n",
       "        text-align: right;\n",
       "    }\n",
       "</style>\n",
       "<table border=\"1\" class=\"dataframe\">\n",
       "  <thead>\n",
       "    <tr style=\"text-align: right;\">\n",
       "      <th></th>\n",
       "      <th>Branch</th>\n",
       "      <th>city code</th>\n",
       "      <th>Customer type</th>\n",
       "      <th>Gender</th>\n",
       "      <th>Product code</th>\n",
       "      <th>Unit price</th>\n",
       "      <th>Quantity</th>\n",
       "      <th>Tax 5%</th>\n",
       "      <th>Total</th>\n",
       "      <th>Date</th>\n",
       "      <th>Time</th>\n",
       "      <th>Payment</th>\n",
       "      <th>cogs</th>\n",
       "      <th>gross margin percentage</th>\n",
       "      <th>gross income</th>\n",
       "      <th>Rating</th>\n",
       "    </tr>\n",
       "  </thead>\n",
       "  <tbody>\n",
       "    <tr>\n",
       "      <th>0</th>\n",
       "      <td>A</td>\n",
       "      <td>CT1</td>\n",
       "      <td>Member</td>\n",
       "      <td>Female</td>\n",
       "      <td>PD1</td>\n",
       "      <td>74.69</td>\n",
       "      <td>7</td>\n",
       "      <td>26.1415</td>\n",
       "      <td>548.9715</td>\n",
       "      <td>2019-05-01</td>\n",
       "      <td>13:08</td>\n",
       "      <td>Ewallet</td>\n",
       "      <td>522.83</td>\n",
       "      <td>4.761905</td>\n",
       "      <td>26.1415</td>\n",
       "      <td>9.1</td>\n",
       "    </tr>\n",
       "    <tr>\n",
       "      <th>1</th>\n",
       "      <td>C</td>\n",
       "      <td>CT3</td>\n",
       "      <td>Normal</td>\n",
       "      <td>Female</td>\n",
       "      <td>PD2</td>\n",
       "      <td>15.28</td>\n",
       "      <td>5</td>\n",
       "      <td>3.8200</td>\n",
       "      <td>80.2200</td>\n",
       "      <td>2019-08-03</td>\n",
       "      <td>10:29</td>\n",
       "      <td>Cash</td>\n",
       "      <td>76.40</td>\n",
       "      <td>4.761905</td>\n",
       "      <td>3.8200</td>\n",
       "      <td>9.6</td>\n",
       "    </tr>\n",
       "    <tr>\n",
       "      <th>2</th>\n",
       "      <td>A</td>\n",
       "      <td>CT1</td>\n",
       "      <td>Normal</td>\n",
       "      <td>Male</td>\n",
       "      <td>PD3</td>\n",
       "      <td>46.33</td>\n",
       "      <td>7</td>\n",
       "      <td>16.2155</td>\n",
       "      <td>340.5255</td>\n",
       "      <td>2019-03-03</td>\n",
       "      <td>13:23</td>\n",
       "      <td>Credit card</td>\n",
       "      <td>324.31</td>\n",
       "      <td>4.761905</td>\n",
       "      <td>16.2155</td>\n",
       "      <td>7.4</td>\n",
       "    </tr>\n",
       "    <tr>\n",
       "      <th>3</th>\n",
       "      <td>A</td>\n",
       "      <td>CT1</td>\n",
       "      <td>Member</td>\n",
       "      <td>Male</td>\n",
       "      <td>PD1</td>\n",
       "      <td>58.22</td>\n",
       "      <td>8</td>\n",
       "      <td>23.2880</td>\n",
       "      <td>489.0480</td>\n",
       "      <td>2019-01-27</td>\n",
       "      <td>20:33</td>\n",
       "      <td>Ewallet</td>\n",
       "      <td>465.76</td>\n",
       "      <td>4.761905</td>\n",
       "      <td>23.2880</td>\n",
       "      <td>8.4</td>\n",
       "    </tr>\n",
       "    <tr>\n",
       "      <th>4</th>\n",
       "      <td>A</td>\n",
       "      <td>CT1</td>\n",
       "      <td>Normal</td>\n",
       "      <td>Male</td>\n",
       "      <td>PD4</td>\n",
       "      <td>86.31</td>\n",
       "      <td>7</td>\n",
       "      <td>30.2085</td>\n",
       "      <td>634.3785</td>\n",
       "      <td>2019-08-02</td>\n",
       "      <td>10:37</td>\n",
       "      <td>Ewallet</td>\n",
       "      <td>604.17</td>\n",
       "      <td>4.761905</td>\n",
       "      <td>30.2085</td>\n",
       "      <td>5.3</td>\n",
       "    </tr>\n",
       "  </tbody>\n",
       "</table>\n",
       "</div>"
      ],
      "text/plain": [
       "  Branch city code  Customer type  Gender Product code Unit price  Quantity  \\\n",
       "0      A        CT1        Member  Female          PD1      74.69         7   \n",
       "1      C        CT3        Normal  Female          PD2      15.28         5   \n",
       "2      A        CT1        Normal    Male          PD3      46.33         7   \n",
       "3      A        CT1        Member    Male          PD1      58.22         8   \n",
       "4      A        CT1        Normal    Male          PD4      86.31         7   \n",
       "\n",
       "    Tax 5%     Total       Date   Time      Payment    cogs  \\\n",
       "0  26.1415  548.9715 2019-05-01  13:08      Ewallet  522.83   \n",
       "1   3.8200   80.2200 2019-08-03  10:29         Cash   76.40   \n",
       "2  16.2155  340.5255 2019-03-03  13:23  Credit card  324.31   \n",
       "3  23.2880  489.0480 2019-01-27  20:33      Ewallet  465.76   \n",
       "4  30.2085  634.3785 2019-08-02  10:37      Ewallet  604.17   \n",
       "\n",
       "   gross margin percentage  gross income  Rating  \n",
       "0                 4.761905       26.1415     9.1  \n",
       "1                 4.761905        3.8200     9.6  \n",
       "2                 4.761905       16.2155     7.4  \n",
       "3                 4.761905       23.2880     8.4  \n",
       "4                 4.761905       30.2085     5.3  "
      ]
     },
     "execution_count": 100,
     "metadata": {},
     "output_type": "execute_result"
    }
   ],
   "source": [
    "data =df.drop([\"Invoice ID\"], axis =1)\n",
    "data.head()"
   ]
  },
  {
   "cell_type": "code",
   "execution_count": 101,
   "id": "371d84d5",
   "metadata": {},
   "outputs": [
    {
     "data": {
      "text/plain": [
       "True"
      ]
     },
     "execution_count": 101,
     "metadata": {},
     "output_type": "execute_result"
    }
   ],
   "source": [
    "# from 1st five observation, we see that Tax 5% and gross income have same values\n",
    "data['Tax 5%'].equals(data[\"gross income\"])"
   ]
  },
  {
   "cell_type": "code",
   "execution_count": 102,
   "id": "12ea111f",
   "metadata": {},
   "outputs": [
    {
     "name": "stdout",
     "output_type": "stream",
     "text": [
      " Begining date :  2019-01-01 00:00:00\n",
      " Ending date :  2019-12-03 00:00:00\n"
     ]
    }
   ],
   "source": [
    "# working on the date column, date is an object and we are gonna extract month value and day value from the date\n",
    "print(\" Begining date : \",data[\"Date\"].min())\n",
    "print(\" Ending date : \",data[\"Date\"].max())"
   ]
  },
  {
   "cell_type": "code",
   "execution_count": 103,
   "id": "7539a390",
   "metadata": {},
   "outputs": [],
   "source": [
    "data[\"Date\"] = pd.DatetimeIndex(data[\"Date\"])"
   ]
  },
  {
   "cell_type": "code",
   "execution_count": 104,
   "id": "252902a7",
   "metadata": {},
   "outputs": [
    {
     "name": "stdout",
     "output_type": "stream",
     "text": [
      "<class 'pandas.core.frame.DataFrame'>\n",
      "RangeIndex: 1000 entries, 0 to 999\n",
      "Data columns (total 16 columns):\n",
      " #   Column                   Non-Null Count  Dtype         \n",
      "---  ------                   --------------  -----         \n",
      " 0   Branch                   1000 non-null   object        \n",
      " 1   city code                1000 non-null   object        \n",
      " 2   Customer type            1000 non-null   object        \n",
      " 3   Gender                   1000 non-null   object        \n",
      " 4   Product code             1000 non-null   object        \n",
      " 5   Unit price               1000 non-null   object        \n",
      " 6   Quantity                 1000 non-null   int64         \n",
      " 7   Tax 5%                   1000 non-null   float64       \n",
      " 8   Total                    1000 non-null   float64       \n",
      " 9   Date                     1000 non-null   datetime64[ns]\n",
      " 10  Time                     1000 non-null   object        \n",
      " 11  Payment                  1000 non-null   object        \n",
      " 12  cogs                     1000 non-null   float64       \n",
      " 13  gross margin percentage  1000 non-null   float64       \n",
      " 14  gross income             1000 non-null   float64       \n",
      " 15  Rating                   1000 non-null   float64       \n",
      "dtypes: datetime64[ns](1), float64(6), int64(1), object(8)\n",
      "memory usage: 125.1+ KB\n"
     ]
    }
   ],
   "source": [
    "data.info()"
   ]
  },
  {
   "cell_type": "code",
   "execution_count": 105,
   "id": "ac0540fe",
   "metadata": {},
   "outputs": [
    {
     "data": {
      "text/plain": [
       "5"
      ]
     },
     "execution_count": 105,
     "metadata": {},
     "output_type": "execute_result"
    }
   ],
   "source": [
    "data[\"Date\"][0].month"
   ]
  },
  {
   "cell_type": "code",
   "execution_count": 106,
   "id": "0785621c",
   "metadata": {},
   "outputs": [
    {
     "data": {
      "text/plain": [
       "1000"
      ]
     },
     "execution_count": 106,
     "metadata": {},
     "output_type": "execute_result"
    }
   ],
   "source": [
    "len(data[\"Date\"])"
   ]
  },
  {
   "cell_type": "code",
   "execution_count": 107,
   "id": "d82d7f3a",
   "metadata": {},
   "outputs": [],
   "source": [
    "list_month = []\n",
    "for i in range(len(data[\"Date\"])):\n",
    "    m=data['Date'][i].month\n",
    "    list_month.append(m)"
   ]
  },
  {
   "cell_type": "code",
   "execution_count": 108,
   "id": "96f4a564",
   "metadata": {},
   "outputs": [
    {
     "data": {
      "text/plain": [
       "1000"
      ]
     },
     "execution_count": 108,
     "metadata": {},
     "output_type": "execute_result"
    }
   ],
   "source": [
    "len(list_month)"
   ]
  },
  {
   "cell_type": "code",
   "execution_count": 109,
   "id": "45b99d1a",
   "metadata": {},
   "outputs": [],
   "source": [
    "data[\"Month\"]= list_month"
   ]
  },
  {
   "cell_type": "code",
   "execution_count": 110,
   "id": "30b29fb6",
   "metadata": {},
   "outputs": [
    {
     "data": {
      "text/plain": [
       "2"
      ]
     },
     "execution_count": 110,
     "metadata": {},
     "output_type": "execute_result"
    }
   ],
   "source": [
    "# extracting the days fro the date\n",
    "data[\"Date\"][0].weekday()"
   ]
  },
  {
   "cell_type": "code",
   "execution_count": 111,
   "id": "8b63036c",
   "metadata": {},
   "outputs": [],
   "source": [
    "# creating the function to apply to the entire column\n",
    "\n",
    "def date_to_weekday(date):\n",
    "    return date.weekday()"
   ]
  },
  {
   "cell_type": "code",
   "execution_count": 112,
   "id": "41e6e514",
   "metadata": {},
   "outputs": [
    {
     "data": {
      "text/html": [
       "<div>\n",
       "<style scoped>\n",
       "    .dataframe tbody tr th:only-of-type {\n",
       "        vertical-align: middle;\n",
       "    }\n",
       "\n",
       "    .dataframe tbody tr th {\n",
       "        vertical-align: top;\n",
       "    }\n",
       "\n",
       "    .dataframe thead th {\n",
       "        text-align: right;\n",
       "    }\n",
       "</style>\n",
       "<table border=\"1\" class=\"dataframe\">\n",
       "  <thead>\n",
       "    <tr style=\"text-align: right;\">\n",
       "      <th></th>\n",
       "      <th>Branch</th>\n",
       "      <th>city code</th>\n",
       "      <th>Customer type</th>\n",
       "      <th>Gender</th>\n",
       "      <th>Product code</th>\n",
       "      <th>Unit price</th>\n",
       "      <th>Quantity</th>\n",
       "      <th>Tax 5%</th>\n",
       "      <th>Total</th>\n",
       "      <th>Date</th>\n",
       "      <th>Time</th>\n",
       "      <th>Payment</th>\n",
       "      <th>cogs</th>\n",
       "      <th>gross margin percentage</th>\n",
       "      <th>gross income</th>\n",
       "      <th>Rating</th>\n",
       "      <th>Month</th>\n",
       "      <th>Day</th>\n",
       "    </tr>\n",
       "  </thead>\n",
       "  <tbody>\n",
       "    <tr>\n",
       "      <th>0</th>\n",
       "      <td>A</td>\n",
       "      <td>CT1</td>\n",
       "      <td>Member</td>\n",
       "      <td>Female</td>\n",
       "      <td>PD1</td>\n",
       "      <td>74.69</td>\n",
       "      <td>7</td>\n",
       "      <td>26.1415</td>\n",
       "      <td>548.9715</td>\n",
       "      <td>2019-05-01</td>\n",
       "      <td>13:08</td>\n",
       "      <td>Ewallet</td>\n",
       "      <td>522.83</td>\n",
       "      <td>4.761905</td>\n",
       "      <td>26.1415</td>\n",
       "      <td>9.1</td>\n",
       "      <td>5</td>\n",
       "      <td>2</td>\n",
       "    </tr>\n",
       "    <tr>\n",
       "      <th>1</th>\n",
       "      <td>C</td>\n",
       "      <td>CT3</td>\n",
       "      <td>Normal</td>\n",
       "      <td>Female</td>\n",
       "      <td>PD2</td>\n",
       "      <td>15.28</td>\n",
       "      <td>5</td>\n",
       "      <td>3.8200</td>\n",
       "      <td>80.2200</td>\n",
       "      <td>2019-08-03</td>\n",
       "      <td>10:29</td>\n",
       "      <td>Cash</td>\n",
       "      <td>76.40</td>\n",
       "      <td>4.761905</td>\n",
       "      <td>3.8200</td>\n",
       "      <td>9.6</td>\n",
       "      <td>8</td>\n",
       "      <td>5</td>\n",
       "    </tr>\n",
       "    <tr>\n",
       "      <th>2</th>\n",
       "      <td>A</td>\n",
       "      <td>CT1</td>\n",
       "      <td>Normal</td>\n",
       "      <td>Male</td>\n",
       "      <td>PD3</td>\n",
       "      <td>46.33</td>\n",
       "      <td>7</td>\n",
       "      <td>16.2155</td>\n",
       "      <td>340.5255</td>\n",
       "      <td>2019-03-03</td>\n",
       "      <td>13:23</td>\n",
       "      <td>Credit card</td>\n",
       "      <td>324.31</td>\n",
       "      <td>4.761905</td>\n",
       "      <td>16.2155</td>\n",
       "      <td>7.4</td>\n",
       "      <td>3</td>\n",
       "      <td>6</td>\n",
       "    </tr>\n",
       "    <tr>\n",
       "      <th>3</th>\n",
       "      <td>A</td>\n",
       "      <td>CT1</td>\n",
       "      <td>Member</td>\n",
       "      <td>Male</td>\n",
       "      <td>PD1</td>\n",
       "      <td>58.22</td>\n",
       "      <td>8</td>\n",
       "      <td>23.2880</td>\n",
       "      <td>489.0480</td>\n",
       "      <td>2019-01-27</td>\n",
       "      <td>20:33</td>\n",
       "      <td>Ewallet</td>\n",
       "      <td>465.76</td>\n",
       "      <td>4.761905</td>\n",
       "      <td>23.2880</td>\n",
       "      <td>8.4</td>\n",
       "      <td>1</td>\n",
       "      <td>6</td>\n",
       "    </tr>\n",
       "    <tr>\n",
       "      <th>4</th>\n",
       "      <td>A</td>\n",
       "      <td>CT1</td>\n",
       "      <td>Normal</td>\n",
       "      <td>Male</td>\n",
       "      <td>PD4</td>\n",
       "      <td>86.31</td>\n",
       "      <td>7</td>\n",
       "      <td>30.2085</td>\n",
       "      <td>634.3785</td>\n",
       "      <td>2019-08-02</td>\n",
       "      <td>10:37</td>\n",
       "      <td>Ewallet</td>\n",
       "      <td>604.17</td>\n",
       "      <td>4.761905</td>\n",
       "      <td>30.2085</td>\n",
       "      <td>5.3</td>\n",
       "      <td>8</td>\n",
       "      <td>4</td>\n",
       "    </tr>\n",
       "  </tbody>\n",
       "</table>\n",
       "</div>"
      ],
      "text/plain": [
       "  Branch city code  Customer type  Gender Product code Unit price  Quantity  \\\n",
       "0      A        CT1        Member  Female          PD1      74.69         7   \n",
       "1      C        CT3        Normal  Female          PD2      15.28         5   \n",
       "2      A        CT1        Normal    Male          PD3      46.33         7   \n",
       "3      A        CT1        Member    Male          PD1      58.22         8   \n",
       "4      A        CT1        Normal    Male          PD4      86.31         7   \n",
       "\n",
       "    Tax 5%     Total       Date   Time      Payment    cogs  \\\n",
       "0  26.1415  548.9715 2019-05-01  13:08      Ewallet  522.83   \n",
       "1   3.8200   80.2200 2019-08-03  10:29         Cash   76.40   \n",
       "2  16.2155  340.5255 2019-03-03  13:23  Credit card  324.31   \n",
       "3  23.2880  489.0480 2019-01-27  20:33      Ewallet  465.76   \n",
       "4  30.2085  634.3785 2019-08-02  10:37      Ewallet  604.17   \n",
       "\n",
       "   gross margin percentage  gross income  Rating  Month  Day  \n",
       "0                 4.761905       26.1415     9.1      5    2  \n",
       "1                 4.761905        3.8200     9.6      8    5  \n",
       "2                 4.761905       16.2155     7.4      3    6  \n",
       "3                 4.761905       23.2880     8.4      1    6  \n",
       "4                 4.761905       30.2085     5.3      8    4  "
      ]
     },
     "execution_count": 112,
     "metadata": {},
     "output_type": "execute_result"
    }
   ],
   "source": [
    "data[\"Day\"] = data[\"Date\"].apply(date_to_weekday)\n",
    "data.head()"
   ]
  },
  {
   "cell_type": "code",
   "execution_count": 114,
   "id": "13912afa",
   "metadata": {},
   "outputs": [
    {
     "data": {
      "text/html": [
       "<div>\n",
       "<style scoped>\n",
       "    .dataframe tbody tr th:only-of-type {\n",
       "        vertical-align: middle;\n",
       "    }\n",
       "\n",
       "    .dataframe tbody tr th {\n",
       "        vertical-align: top;\n",
       "    }\n",
       "\n",
       "    .dataframe thead th {\n",
       "        text-align: right;\n",
       "    }\n",
       "</style>\n",
       "<table border=\"1\" class=\"dataframe\">\n",
       "  <thead>\n",
       "    <tr style=\"text-align: right;\">\n",
       "      <th></th>\n",
       "      <th>Branch</th>\n",
       "      <th>city code</th>\n",
       "      <th>Customer type</th>\n",
       "      <th>Gender</th>\n",
       "      <th>Product code</th>\n",
       "      <th>Unit price</th>\n",
       "      <th>Quantity</th>\n",
       "      <th>Tax 5%</th>\n",
       "      <th>Total</th>\n",
       "      <th>Date</th>\n",
       "      <th>Time</th>\n",
       "      <th>Payment</th>\n",
       "      <th>cogs</th>\n",
       "      <th>gross margin percentage</th>\n",
       "      <th>gross income</th>\n",
       "      <th>Rating</th>\n",
       "      <th>Month</th>\n",
       "      <th>Day</th>\n",
       "      <th>Profit</th>\n",
       "    </tr>\n",
       "  </thead>\n",
       "  <tbody>\n",
       "    <tr>\n",
       "      <th>0</th>\n",
       "      <td>A</td>\n",
       "      <td>CT1</td>\n",
       "      <td>Member</td>\n",
       "      <td>Female</td>\n",
       "      <td>PD1</td>\n",
       "      <td>74.69</td>\n",
       "      <td>7</td>\n",
       "      <td>26.1415</td>\n",
       "      <td>548.9715</td>\n",
       "      <td>2019-05-01</td>\n",
       "      <td>13:08</td>\n",
       "      <td>Ewallet</td>\n",
       "      <td>522.83</td>\n",
       "      <td>4.761905</td>\n",
       "      <td>26.1415</td>\n",
       "      <td>9.1</td>\n",
       "      <td>5</td>\n",
       "      <td>2</td>\n",
       "      <td>3319.9705</td>\n",
       "    </tr>\n",
       "    <tr>\n",
       "      <th>1</th>\n",
       "      <td>C</td>\n",
       "      <td>CT3</td>\n",
       "      <td>Normal</td>\n",
       "      <td>Female</td>\n",
       "      <td>PD2</td>\n",
       "      <td>15.28</td>\n",
       "      <td>5</td>\n",
       "      <td>3.8200</td>\n",
       "      <td>80.2200</td>\n",
       "      <td>2019-08-03</td>\n",
       "      <td>10:29</td>\n",
       "      <td>Cash</td>\n",
       "      <td>76.40</td>\n",
       "      <td>4.761905</td>\n",
       "      <td>3.8200</td>\n",
       "      <td>9.6</td>\n",
       "      <td>8</td>\n",
       "      <td>5</td>\n",
       "      <td>324.7000</td>\n",
       "    </tr>\n",
       "    <tr>\n",
       "      <th>2</th>\n",
       "      <td>A</td>\n",
       "      <td>CT1</td>\n",
       "      <td>Normal</td>\n",
       "      <td>Male</td>\n",
       "      <td>PD3</td>\n",
       "      <td>46.33</td>\n",
       "      <td>7</td>\n",
       "      <td>16.2155</td>\n",
       "      <td>340.5255</td>\n",
       "      <td>2019-03-03</td>\n",
       "      <td>13:23</td>\n",
       "      <td>Credit card</td>\n",
       "      <td>324.31</td>\n",
       "      <td>4.761905</td>\n",
       "      <td>16.2155</td>\n",
       "      <td>7.4</td>\n",
       "      <td>3</td>\n",
       "      <td>6</td>\n",
       "      <td>2059.3685</td>\n",
       "    </tr>\n",
       "    <tr>\n",
       "      <th>3</th>\n",
       "      <td>A</td>\n",
       "      <td>CT1</td>\n",
       "      <td>Member</td>\n",
       "      <td>Male</td>\n",
       "      <td>PD1</td>\n",
       "      <td>58.22</td>\n",
       "      <td>8</td>\n",
       "      <td>23.2880</td>\n",
       "      <td>489.0480</td>\n",
       "      <td>2019-01-27</td>\n",
       "      <td>20:33</td>\n",
       "      <td>Ewallet</td>\n",
       "      <td>465.76</td>\n",
       "      <td>4.761905</td>\n",
       "      <td>23.2880</td>\n",
       "      <td>8.4</td>\n",
       "      <td>1</td>\n",
       "      <td>6</td>\n",
       "      <td>3446.6240</td>\n",
       "    </tr>\n",
       "    <tr>\n",
       "      <th>4</th>\n",
       "      <td>A</td>\n",
       "      <td>CT1</td>\n",
       "      <td>Normal</td>\n",
       "      <td>Male</td>\n",
       "      <td>PD4</td>\n",
       "      <td>86.31</td>\n",
       "      <td>7</td>\n",
       "      <td>30.2085</td>\n",
       "      <td>634.3785</td>\n",
       "      <td>2019-08-02</td>\n",
       "      <td>10:37</td>\n",
       "      <td>Ewallet</td>\n",
       "      <td>604.17</td>\n",
       "      <td>4.761905</td>\n",
       "      <td>30.2085</td>\n",
       "      <td>5.3</td>\n",
       "      <td>8</td>\n",
       "      <td>4</td>\n",
       "      <td>3836.4795</td>\n",
       "    </tr>\n",
       "  </tbody>\n",
       "</table>\n",
       "</div>"
      ],
      "text/plain": [
       "  Branch city code  Customer type  Gender Product code Unit price  Quantity  \\\n",
       "0      A        CT1        Member  Female          PD1      74.69         7   \n",
       "1      C        CT3        Normal  Female          PD2      15.28         5   \n",
       "2      A        CT1        Normal    Male          PD3      46.33         7   \n",
       "3      A        CT1        Member    Male          PD1      58.22         8   \n",
       "4      A        CT1        Normal    Male          PD4      86.31         7   \n",
       "\n",
       "    Tax 5%     Total       Date   Time      Payment    cogs  \\\n",
       "0  26.1415  548.9715 2019-05-01  13:08      Ewallet  522.83   \n",
       "1   3.8200   80.2200 2019-08-03  10:29         Cash   76.40   \n",
       "2  16.2155  340.5255 2019-03-03  13:23  Credit card  324.31   \n",
       "3  23.2880  489.0480 2019-01-27  20:33      Ewallet  465.76   \n",
       "4  30.2085  634.3785 2019-08-02  10:37      Ewallet  604.17   \n",
       "\n",
       "   gross margin percentage  gross income  Rating  Month  Day     Profit  \n",
       "0                 4.761905       26.1415     9.1      5    2  3319.9705  \n",
       "1                 4.761905        3.8200     9.6      8    5   324.7000  \n",
       "2                 4.761905       16.2155     7.4      3    6  2059.3685  \n",
       "3                 4.761905       23.2880     8.4      1    6  3446.6240  \n",
       "4                 4.761905       30.2085     5.3      8    4  3836.4795  "
      ]
     },
     "execution_count": 114,
     "metadata": {},
     "output_type": "execute_result"
    }
   ],
   "source": [
    "# profit is equal to [ Total * Quantity - COGS ]\n",
    "data[\"Profit\"]= data[\"Total\"] * data[\"Quantity\"] - data[\"cogs\"]\n",
    "data.head()"
   ]
  },
  {
   "cell_type": "code",
   "execution_count": 118,
   "id": "5b93abe7",
   "metadata": {},
   "outputs": [
    {
     "data": {
      "text/html": [
       "<div>\n",
       "<style scoped>\n",
       "    .dataframe tbody tr th:only-of-type {\n",
       "        vertical-align: middle;\n",
       "    }\n",
       "\n",
       "    .dataframe tbody tr th {\n",
       "        vertical-align: top;\n",
       "    }\n",
       "\n",
       "    .dataframe thead th {\n",
       "        text-align: right;\n",
       "    }\n",
       "</style>\n",
       "<table border=\"1\" class=\"dataframe\">\n",
       "  <thead>\n",
       "    <tr style=\"text-align: right;\">\n",
       "      <th></th>\n",
       "      <th>Branch</th>\n",
       "      <th>city code</th>\n",
       "      <th>Customer type</th>\n",
       "      <th>Gender</th>\n",
       "      <th>Product code</th>\n",
       "      <th>Unit price</th>\n",
       "      <th>Quantity</th>\n",
       "      <th>Total</th>\n",
       "      <th>Time</th>\n",
       "      <th>Payment</th>\n",
       "      <th>gross income</th>\n",
       "      <th>Rating</th>\n",
       "      <th>Month</th>\n",
       "      <th>Day</th>\n",
       "      <th>Profit</th>\n",
       "    </tr>\n",
       "  </thead>\n",
       "  <tbody>\n",
       "    <tr>\n",
       "      <th>0</th>\n",
       "      <td>A</td>\n",
       "      <td>CT1</td>\n",
       "      <td>Member</td>\n",
       "      <td>Female</td>\n",
       "      <td>PD1</td>\n",
       "      <td>74.69</td>\n",
       "      <td>7</td>\n",
       "      <td>548.9715</td>\n",
       "      <td>13:08</td>\n",
       "      <td>Ewallet</td>\n",
       "      <td>26.1415</td>\n",
       "      <td>9.1</td>\n",
       "      <td>5</td>\n",
       "      <td>2</td>\n",
       "      <td>3319.9705</td>\n",
       "    </tr>\n",
       "    <tr>\n",
       "      <th>1</th>\n",
       "      <td>C</td>\n",
       "      <td>CT3</td>\n",
       "      <td>Normal</td>\n",
       "      <td>Female</td>\n",
       "      <td>PD2</td>\n",
       "      <td>15.28</td>\n",
       "      <td>5</td>\n",
       "      <td>80.2200</td>\n",
       "      <td>10:29</td>\n",
       "      <td>Cash</td>\n",
       "      <td>3.8200</td>\n",
       "      <td>9.6</td>\n",
       "      <td>8</td>\n",
       "      <td>5</td>\n",
       "      <td>324.7000</td>\n",
       "    </tr>\n",
       "    <tr>\n",
       "      <th>2</th>\n",
       "      <td>A</td>\n",
       "      <td>CT1</td>\n",
       "      <td>Normal</td>\n",
       "      <td>Male</td>\n",
       "      <td>PD3</td>\n",
       "      <td>46.33</td>\n",
       "      <td>7</td>\n",
       "      <td>340.5255</td>\n",
       "      <td>13:23</td>\n",
       "      <td>Credit card</td>\n",
       "      <td>16.2155</td>\n",
       "      <td>7.4</td>\n",
       "      <td>3</td>\n",
       "      <td>6</td>\n",
       "      <td>2059.3685</td>\n",
       "    </tr>\n",
       "    <tr>\n",
       "      <th>3</th>\n",
       "      <td>A</td>\n",
       "      <td>CT1</td>\n",
       "      <td>Member</td>\n",
       "      <td>Male</td>\n",
       "      <td>PD1</td>\n",
       "      <td>58.22</td>\n",
       "      <td>8</td>\n",
       "      <td>489.0480</td>\n",
       "      <td>20:33</td>\n",
       "      <td>Ewallet</td>\n",
       "      <td>23.2880</td>\n",
       "      <td>8.4</td>\n",
       "      <td>1</td>\n",
       "      <td>6</td>\n",
       "      <td>3446.6240</td>\n",
       "    </tr>\n",
       "    <tr>\n",
       "      <th>4</th>\n",
       "      <td>A</td>\n",
       "      <td>CT1</td>\n",
       "      <td>Normal</td>\n",
       "      <td>Male</td>\n",
       "      <td>PD4</td>\n",
       "      <td>86.31</td>\n",
       "      <td>7</td>\n",
       "      <td>634.3785</td>\n",
       "      <td>10:37</td>\n",
       "      <td>Ewallet</td>\n",
       "      <td>30.2085</td>\n",
       "      <td>5.3</td>\n",
       "      <td>8</td>\n",
       "      <td>4</td>\n",
       "      <td>3836.4795</td>\n",
       "    </tr>\n",
       "    <tr>\n",
       "      <th>...</th>\n",
       "      <td>...</td>\n",
       "      <td>...</td>\n",
       "      <td>...</td>\n",
       "      <td>...</td>\n",
       "      <td>...</td>\n",
       "      <td>...</td>\n",
       "      <td>...</td>\n",
       "      <td>...</td>\n",
       "      <td>...</td>\n",
       "      <td>...</td>\n",
       "      <td>...</td>\n",
       "      <td>...</td>\n",
       "      <td>...</td>\n",
       "      <td>...</td>\n",
       "      <td>...</td>\n",
       "    </tr>\n",
       "    <tr>\n",
       "      <th>995</th>\n",
       "      <td>C</td>\n",
       "      <td>CT3</td>\n",
       "      <td>Normal</td>\n",
       "      <td>Male</td>\n",
       "      <td>PD1</td>\n",
       "      <td>40.35</td>\n",
       "      <td>1</td>\n",
       "      <td>42.3675</td>\n",
       "      <td>13:46</td>\n",
       "      <td>Ewallet</td>\n",
       "      <td>2.0175</td>\n",
       "      <td>6.2</td>\n",
       "      <td>1</td>\n",
       "      <td>1</td>\n",
       "      <td>2.0175</td>\n",
       "    </tr>\n",
       "    <tr>\n",
       "      <th>996</th>\n",
       "      <td>B</td>\n",
       "      <td>CT9</td>\n",
       "      <td>Normal</td>\n",
       "      <td>Female</td>\n",
       "      <td>PD3</td>\n",
       "      <td>97.38</td>\n",
       "      <td>10</td>\n",
       "      <td>1022.4900</td>\n",
       "      <td>17:16</td>\n",
       "      <td>Ewallet</td>\n",
       "      <td>48.6900</td>\n",
       "      <td>4.4</td>\n",
       "      <td>2</td>\n",
       "      <td>6</td>\n",
       "      <td>9251.1000</td>\n",
       "    </tr>\n",
       "    <tr>\n",
       "      <th>997</th>\n",
       "      <td>A</td>\n",
       "      <td>CT1</td>\n",
       "      <td>Member</td>\n",
       "      <td>Male</td>\n",
       "      <td>PD5</td>\n",
       "      <td>31.84</td>\n",
       "      <td>1</td>\n",
       "      <td>33.4320</td>\n",
       "      <td>13:22</td>\n",
       "      <td>Cash</td>\n",
       "      <td>1.5920</td>\n",
       "      <td>7.7</td>\n",
       "      <td>9</td>\n",
       "      <td>0</td>\n",
       "      <td>1.5920</td>\n",
       "    </tr>\n",
       "    <tr>\n",
       "      <th>998</th>\n",
       "      <td>A</td>\n",
       "      <td>CT1</td>\n",
       "      <td>Normal</td>\n",
       "      <td>Male</td>\n",
       "      <td>PD3</td>\n",
       "      <td>65.82</td>\n",
       "      <td>1</td>\n",
       "      <td>69.1110</td>\n",
       "      <td>15:33</td>\n",
       "      <td>Cash</td>\n",
       "      <td>3.2910</td>\n",
       "      <td>4.1</td>\n",
       "      <td>2</td>\n",
       "      <td>4</td>\n",
       "      <td>3.2910</td>\n",
       "    </tr>\n",
       "    <tr>\n",
       "      <th>999</th>\n",
       "      <td>A</td>\n",
       "      <td>CT1</td>\n",
       "      <td>Member</td>\n",
       "      <td>Female</td>\n",
       "      <td>PD6</td>\n",
       "      <td>88.34</td>\n",
       "      <td>7</td>\n",
       "      <td>649.2990</td>\n",
       "      <td>13:28</td>\n",
       "      <td>Cash</td>\n",
       "      <td>30.9190</td>\n",
       "      <td>6.6</td>\n",
       "      <td>2</td>\n",
       "      <td>0</td>\n",
       "      <td>3926.7130</td>\n",
       "    </tr>\n",
       "  </tbody>\n",
       "</table>\n",
       "<p>1000 rows × 15 columns</p>\n",
       "</div>"
      ],
      "text/plain": [
       "    Branch city code  Customer type  Gender Product code Unit price  Quantity  \\\n",
       "0        A        CT1        Member  Female          PD1      74.69         7   \n",
       "1        C        CT3        Normal  Female          PD2      15.28         5   \n",
       "2        A        CT1        Normal    Male          PD3      46.33         7   \n",
       "3        A        CT1        Member    Male          PD1      58.22         8   \n",
       "4        A        CT1        Normal    Male          PD4      86.31         7   \n",
       "..     ...        ...           ...     ...          ...        ...       ...   \n",
       "995      C        CT3        Normal    Male          PD1      40.35         1   \n",
       "996      B        CT9        Normal  Female          PD3      97.38        10   \n",
       "997      A        CT1        Member    Male          PD5      31.84         1   \n",
       "998      A        CT1        Normal    Male          PD3      65.82         1   \n",
       "999      A        CT1        Member  Female          PD6      88.34         7   \n",
       "\n",
       "         Total   Time      Payment  gross income  Rating  Month  Day  \\\n",
       "0     548.9715  13:08      Ewallet       26.1415     9.1      5    2   \n",
       "1      80.2200  10:29         Cash        3.8200     9.6      8    5   \n",
       "2     340.5255  13:23  Credit card       16.2155     7.4      3    6   \n",
       "3     489.0480  20:33      Ewallet       23.2880     8.4      1    6   \n",
       "4     634.3785  10:37      Ewallet       30.2085     5.3      8    4   \n",
       "..         ...    ...          ...           ...     ...    ...  ...   \n",
       "995    42.3675  13:46      Ewallet        2.0175     6.2      1    1   \n",
       "996  1022.4900  17:16      Ewallet       48.6900     4.4      2    6   \n",
       "997    33.4320  13:22         Cash        1.5920     7.7      9    0   \n",
       "998    69.1110  15:33         Cash        3.2910     4.1      2    4   \n",
       "999   649.2990  13:28         Cash       30.9190     6.6      2    0   \n",
       "\n",
       "        Profit  \n",
       "0    3319.9705  \n",
       "1     324.7000  \n",
       "2    2059.3685  \n",
       "3    3446.6240  \n",
       "4    3836.4795  \n",
       "..         ...  \n",
       "995     2.0175  \n",
       "996  9251.1000  \n",
       "997     1.5920  \n",
       "998     3.2910  \n",
       "999  3926.7130  \n",
       "\n",
       "[1000 rows x 15 columns]"
      ]
     },
     "execution_count": 118,
     "metadata": {},
     "output_type": "execute_result"
    }
   ],
   "source": [
    "data.drop([\"Date\",\"cogs\",\"Tax 5%\",\"gross margin percentage\"], axis =1)"
   ]
  },
  {
   "cell_type": "code",
   "execution_count": null,
   "id": "3165210f",
   "metadata": {},
   "outputs": [],
   "source": []
  },
  {
   "cell_type": "code",
   "execution_count": 120,
   "id": "0d6fd655",
   "metadata": {},
   "outputs": [
    {
     "data": {
      "text/plain": [
       "<AxesSubplot:xlabel='Branch'>"
      ]
     },
     "execution_count": 120,
     "metadata": {},
     "output_type": "execute_result"
    },
    {
     "data": {
      "image/png": "[encoded data removed]",
      "text/plain": [
       "<Figure size 432x288 with 1 Axes>"
      ]
     },
     "metadata": {
      "needs_background": "light"
     },
     "output_type": "display_data"
    }
   ],
   "source": [
    "# which branch has the highest profit ?\n",
    "data.groupby(\"Branch\")[\"Profit\"].mean().plot(kind = \"bar\")"
   ]
  },
  {
   "cell_type": "code",
   "execution_count": 168,
   "id": "f10ec986",
   "metadata": {},
   "outputs": [
    {
     "data": {
      "text/html": [
       "<div>\n",
       "<style scoped>\n",
       "    .dataframe tbody tr th:only-of-type {\n",
       "        vertical-align: middle;\n",
       "    }\n",
       "\n",
       "    .dataframe tbody tr th {\n",
       "        vertical-align: top;\n",
       "    }\n",
       "\n",
       "    .dataframe thead th {\n",
       "        text-align: right;\n",
       "    }\n",
       "</style>\n",
       "<table border=\"1\" class=\"dataframe\">\n",
       "  <thead>\n",
       "    <tr style=\"text-align: right;\">\n",
       "      <th></th>\n",
       "      <th>Branch</th>\n",
       "      <th>city code</th>\n",
       "      <th>Customer type</th>\n",
       "      <th>Gender</th>\n",
       "      <th>Product code</th>\n",
       "      <th>Unit price</th>\n",
       "      <th>Quantity</th>\n",
       "      <th>Tax 5%</th>\n",
       "      <th>Total</th>\n",
       "      <th>Date</th>\n",
       "      <th>Time</th>\n",
       "      <th>Payment</th>\n",
       "      <th>cogs</th>\n",
       "      <th>gross margin percentage</th>\n",
       "      <th>gross income</th>\n",
       "      <th>Rating</th>\n",
       "      <th>Month</th>\n",
       "      <th>Day</th>\n",
       "      <th>Profit</th>\n",
       "    </tr>\n",
       "  </thead>\n",
       "  <tbody>\n",
       "    <tr>\n",
       "      <th>0</th>\n",
       "      <td>A</td>\n",
       "      <td>CT1</td>\n",
       "      <td>Member</td>\n",
       "      <td>Female</td>\n",
       "      <td>Health and Beauty</td>\n",
       "      <td>74.69</td>\n",
       "      <td>7</td>\n",
       "      <td>26.1415</td>\n",
       "      <td>548.9715</td>\n",
       "      <td>2019-05-01</td>\n",
       "      <td>13:08</td>\n",
       "      <td>Ewallet</td>\n",
       "      <td>522.83</td>\n",
       "      <td>4.761905</td>\n",
       "      <td>26.1415</td>\n",
       "      <td>9.1</td>\n",
       "      <td>5</td>\n",
       "      <td>2</td>\n",
       "      <td>3319.9705</td>\n",
       "    </tr>\n",
       "    <tr>\n",
       "      <th>1</th>\n",
       "      <td>C</td>\n",
       "      <td>CT3</td>\n",
       "      <td>Normal</td>\n",
       "      <td>Female</td>\n",
       "      <td>Elecctronic accessories</td>\n",
       "      <td>15.28</td>\n",
       "      <td>5</td>\n",
       "      <td>3.8200</td>\n",
       "      <td>80.2200</td>\n",
       "      <td>2019-08-03</td>\n",
       "      <td>10:29</td>\n",
       "      <td>Cash</td>\n",
       "      <td>76.40</td>\n",
       "      <td>4.761905</td>\n",
       "      <td>3.8200</td>\n",
       "      <td>9.6</td>\n",
       "      <td>8</td>\n",
       "      <td>5</td>\n",
       "      <td>324.7000</td>\n",
       "    </tr>\n",
       "    <tr>\n",
       "      <th>2</th>\n",
       "      <td>A</td>\n",
       "      <td>CT1</td>\n",
       "      <td>Normal</td>\n",
       "      <td>Male</td>\n",
       "      <td>Home and lifestyle</td>\n",
       "      <td>46.33</td>\n",
       "      <td>7</td>\n",
       "      <td>16.2155</td>\n",
       "      <td>340.5255</td>\n",
       "      <td>2019-03-03</td>\n",
       "      <td>13:23</td>\n",
       "      <td>Credit card</td>\n",
       "      <td>324.31</td>\n",
       "      <td>4.761905</td>\n",
       "      <td>16.2155</td>\n",
       "      <td>7.4</td>\n",
       "      <td>3</td>\n",
       "      <td>6</td>\n",
       "      <td>2059.3685</td>\n",
       "    </tr>\n",
       "    <tr>\n",
       "      <th>3</th>\n",
       "      <td>A</td>\n",
       "      <td>CT1</td>\n",
       "      <td>Member</td>\n",
       "      <td>Male</td>\n",
       "      <td>Health and Beauty</td>\n",
       "      <td>58.22</td>\n",
       "      <td>8</td>\n",
       "      <td>23.2880</td>\n",
       "      <td>489.0480</td>\n",
       "      <td>2019-01-27</td>\n",
       "      <td>20:33</td>\n",
       "      <td>Ewallet</td>\n",
       "      <td>465.76</td>\n",
       "      <td>4.761905</td>\n",
       "      <td>23.2880</td>\n",
       "      <td>8.4</td>\n",
       "      <td>1</td>\n",
       "      <td>6</td>\n",
       "      <td>3446.6240</td>\n",
       "    </tr>\n",
       "    <tr>\n",
       "      <th>4</th>\n",
       "      <td>A</td>\n",
       "      <td>CT1</td>\n",
       "      <td>Normal</td>\n",
       "      <td>Male</td>\n",
       "      <td>Sports and travel</td>\n",
       "      <td>86.31</td>\n",
       "      <td>7</td>\n",
       "      <td>30.2085</td>\n",
       "      <td>634.3785</td>\n",
       "      <td>2019-08-02</td>\n",
       "      <td>10:37</td>\n",
       "      <td>Ewallet</td>\n",
       "      <td>604.17</td>\n",
       "      <td>4.761905</td>\n",
       "      <td>30.2085</td>\n",
       "      <td>5.3</td>\n",
       "      <td>8</td>\n",
       "      <td>4</td>\n",
       "      <td>3836.4795</td>\n",
       "    </tr>\n",
       "  </tbody>\n",
       "</table>\n",
       "</div>"
      ],
      "text/plain": [
       "  Branch city code  Customer type  Gender             Product code Unit price  \\\n",
       "0      A        CT1        Member  Female        Health and Beauty      74.69   \n",
       "1      C        CT3        Normal  Female  Elecctronic accessories      15.28   \n",
       "2      A        CT1        Normal    Male       Home and lifestyle      46.33   \n",
       "3      A        CT1        Member    Male        Health and Beauty      58.22   \n",
       "4      A        CT1        Normal    Male        Sports and travel      86.31   \n",
       "\n",
       "   Quantity   Tax 5%     Total       Date   Time      Payment    cogs  \\\n",
       "0         7  26.1415  548.9715 2019-05-01  13:08      Ewallet  522.83   \n",
       "1         5   3.8200   80.2200 2019-08-03  10:29         Cash   76.40   \n",
       "2         7  16.2155  340.5255 2019-03-03  13:23  Credit card  324.31   \n",
       "3         8  23.2880  489.0480 2019-01-27  20:33      Ewallet  465.76   \n",
       "4         7  30.2085  634.3785 2019-08-02  10:37      Ewallet  604.17   \n",
       "\n",
       "   gross margin percentage  gross income  Rating  Month  Day     Profit  \n",
       "0                 4.761905       26.1415     9.1      5    2  3319.9705  \n",
       "1                 4.761905        3.8200     9.6      8    5   324.7000  \n",
       "2                 4.761905       16.2155     7.4      3    6  2059.3685  \n",
       "3                 4.761905       23.2880     8.4      1    6  3446.6240  \n",
       "4                 4.761905       30.2085     5.3      8    4  3836.4795  "
      ]
     },
     "execution_count": 168,
     "metadata": {},
     "output_type": "execute_result"
    }
   ],
   "source": [
    "data['Product code'].replace({'PD1':'Health and Beauty','PD2':'Elecctronic accessories','PD3':'Home and lifestyle','PD4':'Sports and travel','PD5':'Food and beverages','PD6':'Fashion accessories'},inplace = True)\n",
    "data.head()"
   ]
  },
  {
   "cell_type": "code",
   "execution_count": 139,
   "id": "4cfb4de4",
   "metadata": {},
   "outputs": [
    {
     "data": {
      "text/plain": [
       "<AxesSubplot:ylabel='Product code'>"
      ]
     },
     "execution_count": 139,
     "metadata": {},
     "output_type": "execute_result"
    },
    {
     "data": {
      "image/png": "[encoded data removed]",
      "text/plain": [
       "<Figure size 432x288 with 1 Axes>"
      ]
     },
     "metadata": {
      "needs_background": "light"
     },
     "output_type": "display_data"
    }
   ],
   "source": [
    "data.groupby(\"Product code\")[\"Profit\"].mean().plot(kind = \"barh\")"
   ]
  },
  {
   "cell_type": "code",
   "execution_count": 169,
   "id": "4860876d",
   "metadata": {},
   "outputs": [
    {
     "data": {
      "image/png": "[encoded data removed]",
      "text/plain": [
       "<Figure size 360x360 with 1 Axes>"
      ]
     },
     "metadata": {
      "needs_background": "light"
     },
     "output_type": "display_data"
    }
   ],
   "source": [
    "# is my supermarket more popular with males and females ?\n",
    "plt.figure(figsize=(5,5))\n",
    "countplt =sns.countplot(x=\"Gender\",data=data)\n",
    "countplt.set_title(f'Number of customers by Gender', fontsize= 20)\n",
    "\n",
    "for p in countplt.patches:\n",
    "    countplt .annotate(f'\\n{round((p.get_height()/len(df))*100,2)}%',\n",
    "                       (p.get_x()+0.5,p.get_height()+0.5),\n",
    "                       ha='center',va=\"center_baseline\", color=\"black\",size=15)\n",
    "    plt.show()"
   ]
  },
  {
   "cell_type": "code",
   "execution_count": 170,
   "id": "92b60f57",
   "metadata": {},
   "outputs": [
    {
     "data": {
      "image/png": "[encoded data removed]",
      "text/plain": [
       "<Figure size 360x360 with 1 Axes>"
      ]
     },
     "metadata": {
      "needs_background": "light"
     },
     "output_type": "display_data"
    }
   ],
   "source": [
    "# who spend more money at our supermarket whether it is males and females\n",
    "plt.figure(figsize=(5,5))\n",
    "countplt =sns.barplot(x=\"Gender\",y=\"Total\",data=data)\n",
    "countplt.set_title('Expenditure is USD by Gender', fontsize= 20)\n",
    "\n",
    "for p in countplt.patches:\n",
    "     countplt .annotate(f'\\n{round((p.get_height()/len(df))*100,2)}%',\n",
    "          (p.get_x()+0.5,p.get_height()+0.5),\n",
    "                         ha='center',va=\"center_baseline\", color=\"black\",size=8)\n",
    "plt.show()"
   ]
  },
  {
   "cell_type": "code",
   "execution_count": 173,
   "id": "addc5e6c",
   "metadata": {},
   "outputs": [
    {
     "data": {
      "image/png": "[encoded data removed]",
      "text/plain": [
       "<Figure size 864x576 with 1 Axes>"
      ]
     },
     "metadata": {
      "needs_background": "light"
     },
     "output_type": "display_data"
    }
   ],
   "source": [
    "# who spend more money on which product line ?\n",
    "\n",
    "t1=data.groupby([\"Product code\",\"Gender\"]).agg(mean_total_expenditure=(\"Total\",\"mean\"))\n",
    "t1=t1.reset_index()\n",
    "#bar plot\n",
    "plt.figure(figsize=(12,8))\n",
    "sns.barplot(x=\"Product code\",y=\"mean_total_expenditure\",hue=\"Gender\",data=t1)\n",
    "plt.show()"
   ]
  },
  {
   "cell_type": "code",
   "execution_count": 174,
   "id": "e093371b",
   "metadata": {},
   "outputs": [
    {
     "data": {
      "image/png": "[encoded data removed]",
      "text/plain": [
       "<Figure size 720x432 with 1 Axes>"
      ]
     },
     "metadata": {
      "needs_background": "light"
     },
     "output_type": "display_data"
    }
   ],
   "source": [
    "# who spend more money branch wise ?\n",
    "\n",
    "t1=data.groupby([\"Branch\",\"Gender\"]).agg(mean_total_expenditure=(\"Total\",\"mean\"))\n",
    "t1=t1.reset_index()\n",
    "#bar plot\n",
    "plt.figure(figsize=(10,6))\n",
    "sns.barplot(x=\"Branch\",y=\"mean_total_expenditure\",hue=\"Gender\",data=t1)\n",
    "plt.show()"
   ]
  },
  {
   "cell_type": "code",
   "execution_count": 176,
   "id": "60dd91c5",
   "metadata": {},
   "outputs": [
    {
     "data": {
      "image/png": "[encoded data removed]",
      "text/plain": [
       "<Figure size 576x432 with 1 Axes>"
      ]
     },
     "metadata": {
      "needs_background": "light"
     },
     "output_type": "display_data"
    }
   ],
   "source": [
    "# about the aggregate sale across the branchess\n",
    "\n",
    "t1=data.groupby([\"Branch\"]).agg(aggregate_sales=(\"Quantity\",\"sum\"))\n",
    "t1=t1.reset_index()\n",
    "#bar plot\n",
    "plt.figure(figsize=(8,6))\n",
    "sns.barplot(x=\"Branch\",y=\"aggregate_sales\",data=t1)\n",
    "plt.show()\n"
   ]
  },
  {
   "cell_type": "code",
   "execution_count": 147,
   "id": "9a0287a2",
   "metadata": {},
   "outputs": [
    {
     "data": {
      "image/png": "[encoded data removed]",
      "text/plain": [
       "<Figure size 864x576 with 1 Axes>"
      ]
     },
     "metadata": {
      "needs_background": "light"
     },
     "output_type": "display_data"
    }
   ],
   "source": [
    "# number of products sold on branch wise\n",
    "\n",
    "t1=data.groupby([\"Branch\",\"Product code\"]).agg(aggregate_sales=(\"Quantity\",\"sum\"))\n",
    "t1=t1.reset_index()\n",
    "#bar plot\n",
    "import matplotlib.pyplot as plt\n",
    "plt.figure(figsize=(12,8))\n",
    "sns.barplot(x=\"Branch\",y=\"aggregate_sales\",hue=\"Product code\", data=t1)\n",
    "plt.show()"
   ]
  },
  {
   "cell_type": "code",
   "execution_count": 148,
   "id": "0b9218ea",
   "metadata": {},
   "outputs": [
    {
     "data": {
      "image/png": "[encoded data removed]",
      "text/plain": [
       "<Figure size 432x432 with 1 Axes>"
      ]
     },
     "metadata": {},
     "output_type": "display_data"
    }
   ],
   "source": [
    "# most popular payment method used by customers\n",
    "\n",
    "# pie chart\n",
    "import matplotlib.pyplot as plt\n",
    "payment_type = data.groupby(\"Payment\").agg(\"count\")\n",
    "type_labels =payment_type.Branch.sort_values().index\n",
    "type_counts = payment_type.Branch.sort_values()\n",
    "\n",
    "plt.figure(figsize=(6,6))\n",
    "plt.subplot(aspect=1, title='Most Popular Payment Method used by Customers')\n",
    "type_branches=plt.pie(type_counts,labels=type_labels,autopct='%1.1f%%',shadow = True)\n",
    "plt.show()"
   ]
  },
  {
   "cell_type": "code",
   "execution_count": 177,
   "id": "41667483",
   "metadata": {},
   "outputs": [
    {
     "data": {
      "text/plain": [
       "<AxesSubplot:xlabel='Product code', ylabel='mean_total_expenditure'>"
      ]
     },
     "execution_count": 177,
     "metadata": {},
     "output_type": "execute_result"
    },
    {
     "data": {
      "image/png": "[encoded data removed]",
      "text/plain": [
       "<Figure size 2880x720 with 1 Axes>"
      ]
     },
     "metadata": {
      "needs_background": "light"
     },
     "output_type": "display_data"
    }
   ],
   "source": [
    "t1=data.groupby([\"Product code\",\"Payment\"]).agg(mean_total_expenditure=(\"Total\",\"mean\"))\n",
    "t1=t1.reset_index()\n",
    "# bar plot\n",
    "import matplotlib.pyplot as plt\n",
    "plt.figure(figsize=(40,10))\n",
    "plt.subplot(131)\n",
    "sns.barplot(x=\"Product code\",y=\"mean_total_expenditure\",hue=\"Payment\", data=t1)"
   ]
  },
  {
   "cell_type": "code",
   "execution_count": 152,
   "id": "d690ecf4",
   "metadata": {},
   "outputs": [
    {
     "data": {
      "image/png": "[encoded data removed]",
      "text/plain": [
       "<Figure size 864x576 with 1 Axes>"
      ]
     },
     "metadata": {
      "needs_background": "light"
     },
     "output_type": "display_data"
    }
   ],
   "source": [
    "# what is the spending pattern of both of male and females,meaning in which cetagory do they spend more\n",
    "\n",
    "t1=data.groupby([\"Product code\",\"Gender\"]).agg(mean_total_expenditure=(\"Total\",\"mean\"))\n",
    "t1=t1.reset_index()\n",
    "#bar plot\n",
    "plt.figure(figsize=(12,8))\n",
    "sns.barplot(x=\"Product code\",y=\"mean_total_expenditure\",hue=\"Gender\",data=t1)\n",
    "plt.show()"
   ]
  },
  {
   "cell_type": "code",
   "execution_count": 154,
   "id": "c17be415",
   "metadata": {},
   "outputs": [
    {
     "data": {
      "text/html": [
       "<div>\n",
       "<style scoped>\n",
       "    .dataframe tbody tr th:only-of-type {\n",
       "        vertical-align: middle;\n",
       "    }\n",
       "\n",
       "    .dataframe tbody tr th {\n",
       "        vertical-align: top;\n",
       "    }\n",
       "\n",
       "    .dataframe thead th {\n",
       "        text-align: right;\n",
       "    }\n",
       "</style>\n",
       "<table border=\"1\" class=\"dataframe\">\n",
       "  <thead>\n",
       "    <tr style=\"text-align: right;\">\n",
       "      <th></th>\n",
       "      <th>aggregate_sales</th>\n",
       "    </tr>\n",
       "    <tr>\n",
       "      <th>Product code</th>\n",
       "      <th></th>\n",
       "    </tr>\n",
       "  </thead>\n",
       "  <tbody>\n",
       "    <tr>\n",
       "      <th>Elecctronic accessories</th>\n",
       "      <td>971</td>\n",
       "    </tr>\n",
       "    <tr>\n",
       "      <th>Fashion accessories</th>\n",
       "      <td>902</td>\n",
       "    </tr>\n",
       "    <tr>\n",
       "      <th>Food and beverages</th>\n",
       "      <td>952</td>\n",
       "    </tr>\n",
       "    <tr>\n",
       "      <th>Health and Beauty</th>\n",
       "      <td>854</td>\n",
       "    </tr>\n",
       "    <tr>\n",
       "      <th>Home and lifestyle</th>\n",
       "      <td>911</td>\n",
       "    </tr>\n",
       "    <tr>\n",
       "      <th>Sports and travel</th>\n",
       "      <td>920</td>\n",
       "    </tr>\n",
       "  </tbody>\n",
       "</table>\n",
       "</div>"
      ],
      "text/plain": [
       "                         aggregate_sales\n",
       "Product code                            \n",
       "Elecctronic accessories              971\n",
       "Fashion accessories                  902\n",
       "Food and beverages                   952\n",
       "Health and Beauty                    854\n",
       "Home and lifestyle                   911\n",
       "Sports and travel                    920"
      ]
     },
     "execution_count": 154,
     "metadata": {},
     "output_type": "execute_result"
    }
   ],
   "source": [
    "# how many product are bought by customers in product line\n",
    "\n",
    "t1=data.groupby([\"Product code\"]).agg(aggregate_sales=(\"Quantity\",\"sum\"))\n",
    "t1"
   ]
  },
  {
   "cell_type": "code",
   "execution_count": 178,
   "id": "2365bd17",
   "metadata": {},
   "outputs": [
    {
     "data": {
      "image/png": "[encoded data removed]",
      "text/plain": [
       "<Figure size 576x432 with 1 Axes>"
      ]
     },
     "metadata": {
      "needs_background": "light"
     },
     "output_type": "display_data"
    }
   ],
   "source": [
    "# which day of the week has maximum sales ?\n",
    "\n",
    "t1=data.groupby([\"Day\"]).agg(aggregate_sales=(\"Quantity\",\"sum\"))\n",
    "t1=t1.reset_index()\n",
    "#bar plot\n",
    "plt.figure(figsize=(8,6))\n",
    "sns.barplot(x=\"Day\",y=\"aggregate_sales\",data=t1)\n",
    "plt.show()"
   ]
  },
  {
   "cell_type": "code",
   "execution_count": 157,
   "id": "5b82a03d",
   "metadata": {},
   "outputs": [],
   "source": [
    "corr= data.corr(method='spearman').round(2)"
   ]
  },
  {
   "cell_type": "code",
   "execution_count": 158,
   "id": "923349bc",
   "metadata": {},
   "outputs": [
    {
     "data": {
      "text/plain": [
       "Text(0.5, 1.0, \" Heatmap using Spearman's correlation\")"
      ]
     },
     "execution_count": 158,
     "metadata": {},
     "output_type": "execute_result"
    },
    {
     "data": {
      "image/png": "[encoded data removed]",
      "text/plain": [
       "<Figure size 720x360 with 2 Axes>"
      ]
     },
     "metadata": {
      "needs_background": "light"
     },
     "output_type": "display_data"
    }
   ],
   "source": [
    "plt.figure(figsize = (10,5))\n",
    "sns.heatmap(corr,annot =True)\n",
    "plt.title(\" Heatmap using Spearman's correlation\")"
   ]
  },
  {
   "cell_type": "markdown",
   "id": "85ca6b88",
   "metadata": {},
   "source": [
    "### Inference from the Analysis\n",
    "* Total Customers = 1000\n",
    "* Total Females = 501\n",
    "* Total Males = 499\n",
    "* Maximum people comes from Yangon City\n",
    "* Max Average Sales of Fashion Accessories are from Females\n",
    "* Max Average Sales of Health & Beauty are from Males\n",
    "* sundays of the weeks has maximum sales\n",
    "* the gross income is highly correlate with tax,Toatal Cogs,profit.\n",
    "* the product are bought by the customers are maximum in electronic and accesories.\n",
    "* females have spend more money in homes and lifestyle and male have spend in health and beauty.\n",
    "* E-wallet has been widely used in supermarket followed by cash and credit card\n",
    "* Branch A have sold more product in home and lifestyle followed by Branch C in food and beavarages and Branch B in sports and travel.\n",
    "* Branch A has the largest sale fllowed by Branch C and Branch B\n",
    "* females spend more money in our supermarket than males\n",
    "* Home and lifestyle have made the biggest profit followed by Electronic and accesories then sports and travel\n",
    "* Branch C has the highest Profit"
   ]
  },
  {
   "cell_type": "code",
   "execution_count": null,
   "id": "76ba4a64",
   "metadata": {},
   "outputs": [],
   "source": []
  }
 ],
 "metadata": {
  "kernelspec": {
   "display_name": "Python 3",
   "language": "python",
   "name": "python3"
  },
  "language_info": {
   "codemirror_mode": {
    "name": "ipython",
    "version": 3
   },
   "file_extension": ".py",
   "mimetype": "text/x-python",
   "name": "python",
   "nbconvert_exporter": "python",
   "pygments_lexer": "ipython3",
   "version": "3.8.8"
  }
 },
 "nbformat": 4,
 "nbformat_minor": 5
}
